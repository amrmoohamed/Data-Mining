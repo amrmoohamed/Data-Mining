{
  "nbformat": 4,
  "nbformat_minor": 0,
  "metadata": {
    "colab": {
      "name": "Assignment1.ipynb",
      "provenance": [],
      "authorship_tag": "ABX9TyPuS/PmHz9YRY/LqimV4Pup",
      "include_colab_link": true
    },
    "kernelspec": {
      "name": "python3",
      "display_name": "Python 3"
    }
  },
  "cells": [
    {
      "cell_type": "markdown",
      "metadata": {
        "id": "view-in-github",
        "colab_type": "text"
      },
      "source": [
        "<a href=\"https://colab.research.google.com/github/amrmoohamed/Data-Mining/blob/master/Pattern%20Discovery%20in%20Data%20Mining/Assignment1.ipynb\" target=\"_parent\"><img src=\"https://colab.research.google.com/assets/colab-badge.svg\" alt=\"Open In Colab\"/></a>"
      ]
    },
    {
      "cell_type": "code",
      "metadata": {
        "id": "g4pwWfBnGQqt",
        "colab_type": "code",
        "colab": {}
      },
      "source": [
        "from __future__ import print_function\n",
        "from __future__ import division\n",
        "from tqdm import tqdm"
      ],
      "execution_count": 1,
      "outputs": []
    },
    {
      "cell_type": "code",
      "metadata": {
        "id": "qLgxVjHcF9ap",
        "colab_type": "code",
        "colab": {}
      },
      "source": [
        "class Apriori:\n",
        "    def __init__(self):\n",
        "        self.dataSet = None\n",
        "\n",
        "    def loadData(self,filepath='categories.txt'):\n",
        "        with open(filepath, 'r') as f:\n",
        "            self.dataSet = [line.strip().split(';') for line in f.readlines()]\n",
        "\n",
        "\n",
        "\n",
        "    def createC1(self ,):\n",
        "        \"\"\"\n",
        "        :param dataset: \n",
        "        :return: \n",
        "        \"\"\"\n",
        "        if self.dataSet == None:\n",
        "            print(\"have not load data\")\n",
        "            return None\n",
        "\n",
        "        C1 = []\n",
        "\n",
        "        for transaction in self.dataSet:\n",
        "            for item in transaction:\n",
        "                if not [item] in C1:\n",
        "                    C1.append([item])\n",
        "        C1.sort()\n",
        "        return  [frozenset(x) for x in C1]\n",
        "\n",
        "\n",
        "\n",
        "\n",
        "    def scanD(self,D,Ck,minSupport):\n",
        "        \"\"\"\n",
        "        :param D: \n",
        "        :param Ck: \n",
        "        :param minSupport: \n",
        "        :return: \n",
        "        \"\"\"\n",
        "\n",
        "        ssCnt = {}\n",
        "\n",
        "        for tid in tqdm(D):\n",
        "            for can in Ck:\n",
        "                if can.issubset(tid):\n",
        "                    if not can in ssCnt.keys():\n",
        "                        ssCnt[can] = 1\n",
        "                    else:\n",
        "                        ssCnt[can] += 1\n",
        "\n",
        "        numItems = len(D)\n",
        "        retList = []\n",
        "        superData = {}\n",
        "        for key in ssCnt:\n",
        "            support = ssCnt[key]/numItems\n",
        "            if support >= minSupport:\n",
        "                retList.insert(0,key)\n",
        "            superData[key] = ssCnt[key]\n",
        "        return retList,superData\n",
        "\n",
        "\n",
        "    def aprioriGen(self,Lk,k):\n",
        "        \"\"\"\n",
        "        :param Lk: \n",
        "        :param k: \n",
        "        :return: \n",
        "        \"\"\"\n",
        "        retList = []\n",
        "        lenLk = len(Lk)\n",
        "        for i in range(lenLk):\n",
        "            for j in range(i+1,lenLk):\n",
        "                L1 = list(Lk[i])[:k-2];L2 = list(Lk[j])[:k-2]\n",
        "                L1.sort();L2.sort()\n",
        "                if L1==L2:\n",
        "                    retList.append(Lk[i]|Lk[j])\n",
        "        return retList\n",
        "\n",
        "    def apriori(self,minSupport = 0.01,K=1e9):\n",
        "        C1 = self.createC1()\n",
        "        D = list(map(set,self.dataSet))\n",
        "        L1,supportData = self.scanD(D,C1,minSupport)\n",
        "        L = [L1]\n",
        "        k=2\n",
        "        while(len(L[k-2])>0 and k<=K):\n",
        "            Ck = self.aprioriGen(L[k-2],k)\n",
        "            Lk,supK = self.scanD(D,Ck,minSupport)\n",
        "            supportData.update(supK)\n",
        "            L.append(Lk)\n",
        "            k +=1\n",
        "\n",
        "        self.L = L\n",
        "        self.supportData = supportData\n",
        "\n",
        "\n",
        "\n",
        "\n",
        "    def writeout(self,filename='patterns_all.txt',K=1e9,):\n",
        "        \"\"\"\n",
        "        :param filename filepath\n",
        "        :param K frequent k itemset\n",
        "        \"\"\"\n",
        "        with open(filename,'w') as f:\n",
        "            for  k,Lk in enumerate(self.L ,start=1):\n",
        "                if k <=K:\n",
        "                    for item in Lk:\n",
        "                        f.write(str(self.supportData[item])+':'+';'.join(list(item))+'\\n')\n",
        "\n",
        "\n"
      ],
      "execution_count": 2,
      "outputs": []
    },
    {
      "cell_type": "code",
      "metadata": {
        "id": "dvIDs5V3GBgX",
        "colab_type": "code",
        "colab": {
          "base_uri": "https://localhost:8080/",
          "height": 92
        },
        "outputId": "47c49127-f094-42ca-e626-3452719a59dd"
      },
      "source": [
        "a = Apriori()\n",
        "a.loadData()\n",
        "a.apriori(0.01)\n",
        "a.writeout()"
      ],
      "execution_count": 3,
      "outputs": [
        {
          "output_type": "stream",
          "text": [
            "100%|██████████| 77185/77185 [00:05<00:00, 13661.20it/s]\n",
            "100%|██████████| 77185/77185 [00:07<00:00, 11018.32it/s]\n",
            "100%|██████████| 77185/77185 [00:00<00:00, 182677.36it/s]\n",
            "100%|██████████| 77185/77185 [00:00<00:00, 2053806.14it/s]\n"
          ],
          "name": "stderr"
        }
      ]
    }
  ]
}