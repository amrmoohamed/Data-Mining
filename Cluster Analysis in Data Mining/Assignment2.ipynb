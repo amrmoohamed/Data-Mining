{
  "nbformat": 4,
  "nbformat_minor": 0,
  "metadata": {
    "colab": {
      "name": "Assignment2.ipynb",
      "provenance": [],
      "authorship_tag": "ABX9TyNLjsn2ynValwRi+Gf9yzM5",
      "include_colab_link": true
    },
    "kernelspec": {
      "name": "python3",
      "display_name": "Python 3"
    }
  },
  "cells": [
    {
      "cell_type": "markdown",
      "metadata": {
        "id": "view-in-github",
        "colab_type": "text"
      },
      "source": [
        "<a href=\"https://colab.research.google.com/github/amrmoohamed/Data-Mining/blob/master/Cluster%20Analysis%20in%20Data%20Mining/Assignment2.ipynb\" target=\"_parent\"><img src=\"https://colab.research.google.com/assets/colab-badge.svg\" alt=\"Open In Colab\"/></a>"
      ]
    },
    {
      "cell_type": "code",
      "metadata": {
        "id": "zMpLiC0dfpBh",
        "colab_type": "code",
        "colab": {}
      },
      "source": [
        "from __future__ import print_function\n",
        "from __future__ import division\n",
        "import pandas as pd\n",
        "import numpy as np\n",
        "from collections import Counter\n",
        "from scipy.special import comb"
      ],
      "execution_count": 1,
      "outputs": []
    },
    {
      "cell_type": "code",
      "metadata": {
        "id": "ckiCS8ssfuGX",
        "colab_type": "code",
        "colab": {}
      },
      "source": [
        "def Entropy(label):\n",
        "    count_dict = Counter(label)\n",
        "    total = label.count()\n",
        "    H = 0\n",
        "    for value in count_dict.values():\n",
        "        p = value/total\n",
        "        H-= p *np.log(p)\n",
        "    return H\n"
      ],
      "execution_count": 2,
      "outputs": []
    },
    {
      "cell_type": "code",
      "metadata": {
        "id": "LZ0M6Klmfuvh",
        "colab_type": "code",
        "colab": {}
      },
      "source": [
        "def Mutual_information(cluster_label,truth_label):\n",
        "    cluster_dict = Counter(cluster_label)\n",
        "    truth_dict = Counter(truth_label)\n",
        "    total = cluster_label.count()\n",
        "    in_label = [(c,t) for c,t in zip(cluster_label,truth_label)]\n",
        "    in_dict = Counter(in_label)\n",
        "    I = 0\n",
        "    for k,v in in_dict.items():\n",
        "        c,t = k\n",
        "        pij = v/total\n",
        "        pc = cluster_dict[c]/total\n",
        "        pt = truth_dict[t]/total\n",
        "        I += pij*np.log(pij/(pc*pt))\n",
        "    return I"
      ],
      "execution_count": 3,
      "outputs": []
    },
    {
      "cell_type": "code",
      "metadata": {
        "id": "Ccjwfi6Yfxep",
        "colab_type": "code",
        "colab": {}
      },
      "source": [
        "def NMI(cluster_label,truth_label):\n",
        "    I = Mutual_information(cluster_label,truth_label)\n",
        "    H_c = Entropy(cluster_label)\n",
        "    H_t = Entropy(truth_label)\n",
        "    return I/np.sqrt(H_c*H_t)"
      ],
      "execution_count": 4,
      "outputs": []
    },
    {
      "cell_type": "code",
      "metadata": {
        "id": "TVOCUR0Rf0Uz",
        "colab_type": "code",
        "colab": {}
      },
      "source": [
        "def Jaccard_coef(cluster_label,truth_label):\n",
        "    cluster_dict = Counter(cluster_label)\n",
        "    truth_dict = Counter(truth_label)\n",
        "    total = cluster_label.count()\n",
        "    in_label = [(c,t) for c,t in zip(cluster_label,truth_label)]\n",
        "    in_dict = Counter(in_label)\n",
        "    TP = 0\n",
        "    for k,v in in_dict.items():\n",
        "        TP += v**2\n",
        "    TP  = 0.5*(TP - total)\n",
        "    FN = 0\n",
        "    for k,v in cluster_dict.items():\n",
        "        FN += comb(v,2)\n",
        "    FN -= TP\n",
        "    FP = 0\n",
        "    for k,v in truth_dict.items():\n",
        "        FP += comb(v,2)\n",
        "    FP -= TP\n",
        "    Jaccard = TP/(TP+FN+FP)\n",
        "    return Jaccard"
      ],
      "execution_count": 5,
      "outputs": []
    },
    {
      "cell_type": "code",
      "metadata": {
        "id": "Hlnr-XS9fmr5",
        "colab_type": "code",
        "colab": {}
      },
      "source": [
        "truth = pd.read_csv('partitions.txt',sep=' ',names=['id','label'],index_col=['id'])\n",
        "clusters = []\n",
        "for i in range(1,6):\n",
        "    filename = str(i).join(['clustering_','.txt'])\n",
        "    clusters.append(pd.read_csv(filename ,sep=' ',names=['id','label'],index_col=['id']))\n",
        "\n",
        "\n",
        "\n",
        "NMI_score = [NMI(cluster['label'],truth['label']) for cluster in clusters]\n",
        "Jaccard_score = [Jaccard_coef(cluster['label'],truth['label']) for cluster in clusters]\n",
        "\n",
        "\n",
        "scores = pd.DataFrame({'NMI':NMI_score,'Jaccard':Jaccard_score},columns=['NMI','Jaccard'])\n",
        "scores.to_csv('scores.txt',sep=' ',header=False,index=False)"
      ],
      "execution_count": 7,
      "outputs": []
    },
    {
      "cell_type": "code",
      "metadata": {
        "id": "D-Gl79BgfpNk",
        "colab_type": "code",
        "colab": {}
      },
      "source": [
        ""
      ],
      "execution_count": null,
      "outputs": []
    }
  ]
}